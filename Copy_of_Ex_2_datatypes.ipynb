{
  "cells": [
    {
      "cell_type": "markdown",
      "metadata": {
        "id": "view-in-github",
        "colab_type": "text"
      },
      "source": [
        "<a href=\"https://colab.research.google.com/github/Clary-092/MMDT_2025_PY101/blob/main/Copy_of_Ex_2_datatypes.ipynb\" target=\"_parent\"><img src=\"https://colab.research.google.com/assets/colab-badge.svg\" alt=\"Open In Colab\"/></a>"
      ]
    },
    {
      "cell_type": "code",
      "source": [
        "print(len(\"My name is python\"))"
      ],
      "metadata": {
        "id": "4BF1DzAlgUDD",
        "outputId": "7065e958-169a-46bc-d1f3-b8077f7a8f2d",
        "colab": {
          "base_uri": "https://localhost:8080/"
        }
      },
      "execution_count": null,
      "outputs": [
        {
          "output_type": "stream",
          "name": "stdout",
          "text": [
            "17\n"
          ]
        }
      ]
    },
    {
      "cell_type": "code",
      "source": [
        "paragraph = \"Floating-point values in Python are always done in double precision; hence, Python float types correspond to doubles in a C-like language.\"\n",
        "count = paragraph.lower().count(\"python\")\n",
        "print(\"Python appears {} times\".format(count))"
      ],
      "metadata": {
        "id": "FLeQM1y9hnYk",
        "outputId": "a5fbd4de-ef25-4ed5-bd19-477ff168abd3",
        "colab": {
          "base_uri": "https://localhost:8080/"
        }
      },
      "execution_count": null,
      "outputs": [
        {
          "output_type": "stream",
          "name": "stdout",
          "text": [
            "Python appears 2 times\n"
          ]
        }
      ]
    },
    {
      "cell_type": "code",
      "source": [
        "ls1 = [\"apple\",\"banana\",\"cherry\"]\n",
        "ls2 = [\"apple\", \"banana\",\"cherry\",\"apple\",\"cherry\"]\n",
        "print (len (ls1+ls2))"
      ],
      "metadata": {
        "id": "eImqzrzrk9S_",
        "outputId": "3e735516-18e6-4fe9-99f2-4ab96a1c430d",
        "colab": {
          "base_uri": "https://localhost:8080/"
        }
      },
      "execution_count": null,
      "outputs": [
        {
          "output_type": "stream",
          "name": "stdout",
          "text": [
            "8\n"
          ]
        }
      ]
    },
    {
      "cell_type": "code",
      "source": [
        "my_dict ={'Name':['Myo','Thida'],'Age':[32,64]}\n",
        "print(my_dict)"
      ],
      "metadata": {
        "id": "WZO63Jxsl67K",
        "outputId": "5e266abd-ea49-4c2a-bb50-6a8a2e5fbbf9",
        "colab": {
          "base_uri": "https://localhost:8080/"
        }
      },
      "execution_count": null,
      "outputs": [
        {
          "output_type": "stream",
          "name": "stdout",
          "text": [
            "{'Name': ['Myo', 'Thida'], 'Age': [32, 64]}\n"
          ]
        }
      ]
    },
    {
      "cell_type": "code",
      "source": [
        "set1 = {'Name',\"age\",\"Height\"}\n",
        "set2 = {\"Name\", \"status\", \"Education\"}\n",
        "set3 =set1.union(set2)\n",
        "print (set3, \"\\n The number of elements in set3 is {}\".format (len(set3)))"
      ],
      "metadata": {
        "id": "PY3Nu-xxmwom",
        "outputId": "5641eae4-1b38-4161-ed74-7b88cc6587a2",
        "colab": {
          "base_uri": "https://localhost:8080/"
        }
      },
      "execution_count": null,
      "outputs": [
        {
          "output_type": "stream",
          "name": "stdout",
          "text": [
            "{'age', 'Name', 'Education', 'status', 'Height'} \n",
            " The number of elements in set3 is 5\n"
          ]
        }
      ]
    },
    {
      "cell_type": "code",
      "source": [
        "string1 =input (\"Enter a string:\")\n",
        "string2 = string1.replace(string1[1],'*')\n",
        "new_string = string2 +'!!!'\n",
        "print (new_string)"
      ],
      "metadata": {
        "id": "fz00yux2oL9F",
        "outputId": "f6091b41-327b-4f16-be16-bbcde561255a",
        "colab": {
          "base_uri": "https://localhost:8080/"
        }
      },
      "execution_count": null,
      "outputs": [
        {
          "output_type": "stream",
          "name": "stdout",
          "text": [
            "Enter a string:Love\n",
            "L*ve!!!\n"
          ]
        }
      ]
    },
    {
      "cell_type": "code",
      "source": [
        "s = \"Floating-point values in Python are always done in double precision; hence, Python float types correspond to doubles in a C-like language.\"\n",
        "new_string = s.lower().replace(\",\",\"\").replace(\";\",\"\").replace(\".\",\"\").replace(\"-\",\"\").replace(\":\",\"\")\n",
        "print(new_string)"
      ],
      "metadata": {
        "id": "XdnGXybwqSpz",
        "outputId": "70966046-b84e-4cbf-802e-2886063e78ed",
        "colab": {
          "base_uri": "https://localhost:8080/"
        }
      },
      "execution_count": null,
      "outputs": [
        {
          "output_type": "stream",
          "name": "stdout",
          "text": [
            "floatingpoint values in python are always done in double precision hence python float types correspond to doubles in a clike language\n"
          ]
        }
      ]
    },
    {
      "cell_type": "code",
      "source": [
        "from random import randint\n",
        "L1 = list (range (1,101))\n",
        "L2 = L1.copy()\n",
        "L2.remove (randint (1,101))\n",
        "print (set(L1).difference(set(L2)))"
      ],
      "metadata": {
        "id": "U4HKBPeCrFP-",
        "outputId": "5803147e-f37a-4f4a-9020-3c0c8a7a694f",
        "colab": {
          "base_uri": "https://localhost:8080/"
        }
      },
      "execution_count": null,
      "outputs": [
        {
          "output_type": "stream",
          "name": "stdout",
          "text": [
            "{88}\n"
          ]
        }
      ]
    },
    {
      "cell_type": "code",
      "source": [
        "ls1 = [\"apple\",\"banana\",\"cherry\"]\n",
        "ls2 = ls1.copy()\n",
        "ls2.append(\"blueberry\")\n",
        "print ('original:',ls1)\n",
        "print ('new list:',ls2)"
      ],
      "metadata": {
        "id": "BcvNNJCZxNa3",
        "outputId": "f0a303eb-950e-497b-ddca-4dca7c51949b",
        "colab": {
          "base_uri": "https://localhost:8080/"
        }
      },
      "execution_count": null,
      "outputs": [
        {
          "output_type": "stream",
          "name": "stdout",
          "text": [
            "original: ['apple', 'banana', 'cherry']\n",
            "new list: ['apple', 'banana', 'cherry', 'blueberry']\n"
          ]
        }
      ]
    },
    {
      "cell_type": "code",
      "source": [],
      "metadata": {
        "id": "Y_rQaY5XzV80"
      },
      "execution_count": null,
      "outputs": []
    }
  ],
  "metadata": {
    "colab": {
      "provenance": [],
      "include_colab_link": true
    },
    "kernelspec": {
      "display_name": "Python 3",
      "language": "python",
      "name": "python3"
    },
    "language_info": {
      "codemirror_mode": {
        "name": "ipython",
        "version": 3
      },
      "file_extension": ".py",
      "mimetype": "text/x-python",
      "name": "python",
      "nbconvert_exporter": "python",
      "pygments_lexer": "ipython3",
      "version": "3.8.8"
    }
  },
  "nbformat": 4,
  "nbformat_minor": 0
}